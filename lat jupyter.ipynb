{
 "cells": [
  {
   "cell_type": "code",
   "execution_count": 28,
   "metadata": {},
   "outputs": [
    {
     "name": "stdout",
     "output_type": "stream",
     "text": [
      "volume balok 450cm^3\n",
      "Jadi,luas balok adalah 370cm^2\n"
     ]
    }
   ],
   "source": [
    "panjang = int(input(\"Masukkan panjang balok dalam cm: \"))\n",
    "lebar = int(input(\"Masukkan lebar balok dalam cm: \"))\n",
    "tinggi = int(input(\"Masukkan tinggi balok dalam cm: \"))\n",
    "print(f\"volume balok {(panjang*lebar*tinggi)}cm^3\")\n",
    "print(f\"Jadi,luas balok adalah {(2*panjang*lebar)+(2*lebar*tinggi)+(2*panjang*tinggi)}cm^2\")"
   ]
  },
  {
   "cell_type": "code",
   "execution_count": 26,
   "metadata": {},
   "outputs": [
    {
     "name": "stdout",
     "output_type": "stream",
     "text": [
      "[3, 2, 1]\n",
      "jarak rumah yang paling jauh adalah:3\n",
      "jarak rumah yang paling dekat adalah:1\n",
      "Nilai darimean adalah: 2.0\n"
     ]
    }
   ],
   "source": [
    "jarak_rumah = []\n",
    "nilai = input('Masukkan jarak rumahmu dan 2 temanmu ke kampus: ')\n",
    "jarak_rumah = nilai.split(',')\n",
    "\n",
    "angka_list = [int(nilai) for nilai in jarak_rumah]\n",
    "print(angka_list)\n",
    "\n",
    "#mencari nilai maksimal dan minimal\n",
    "print(f'jarak rumah yang paling jauh adalah:{max(angka_list)}')\n",
    "print(f'jarak rumah yang paling dekat adalah:{min(angka_list)}')\n",
    "\n",
    "#mencari nilai mean/rata-rata\n",
    "mean = sum(angka_list)/len(angka_list)\n",
    "print(f'Nilai darimean adalah: {mean}')"
   ]
  }
 ],
 "metadata": {
  "kernelspec": {
   "display_name": "Python 3",
   "language": "python",
   "name": "python3"
  },
  "language_info": {
   "codemirror_mode": {
    "name": "ipython",
    "version": 3
   },
   "file_extension": ".py",
   "mimetype": "text/x-python",
   "name": "python",
   "nbconvert_exporter": "python",
   "pygments_lexer": "ipython3",
   "version": "3.11.2"
  },
  "orig_nbformat": 4
 },
 "nbformat": 4,
 "nbformat_minor": 2
}
