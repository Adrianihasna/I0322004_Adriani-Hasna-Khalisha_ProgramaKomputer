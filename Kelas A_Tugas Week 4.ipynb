{
 "cells": [
  {
   "cell_type": "code",
   "execution_count": null,
   "metadata": {},
   "outputs": [],
   "source": [
    "print(input(\"Nama: \"))\n",
    "print(input(\"NIM: \"))\n",
    "print(input(\"Kelas: \"))"
   ]
  },
  {
   "attachments": {},
   "cell_type": "markdown",
   "metadata": {},
   "source": [
    "## 1."
   ]
  },
  {
   "attachments": {},
   "cell_type": "markdown",
   "metadata": {},
   "source": [
    "Buatlah program persyaratan pembuatan SIM dengan input yaitu nama user, umur user, dan nilai tes user.<br>\n",
    "Dengan ketentuan mendapat SIM sebagai berikut:\n",
    "* Umur dari user harus lebih dari sama dengan 17 tahun\n",
    "* Nilai tes lebih dari sama dengan 70\n",
    "\n",
    "<br>Output yang dihasilkan dari program adalah:\n",
    "<br>\"Selamat Anda Berhak Mendapatkan SIM Anda\"\n",
    "<br>\"Maaf, Anda tidak berhak mendapatkan SIM anda\"\n",
    "> *note: Kerjakan soal ini dengan percabangan*"
   ]
  },
  {
   "cell_type": "code",
   "execution_count": 4,
   "metadata": {},
   "outputs": [
    {
     "name": "stdout",
     "output_type": "stream",
     "text": [
      "Selamat Anda berhak Mendapatkan SIM Anda\n"
     ]
    }
   ],
   "source": [
    "Nama = input(\"Masukkan nama Anda : \")\n",
    "Umur = int(input(\"Masukkan umur Anda : \"))\n",
    "Nilai_tes = int(input(\"Masukkan nilai tes Anda : \"))\n",
    "\n",
    "#ketentuan mendapat sim\n",
    "if Umur >= 17 :\n",
    "    if Nilai_tes >= 70 :\n",
    "        print(\"Selamat Anda berhak Mendapatkan SIM Anda\")\n",
    "else : print(\"Maaf Anda tidak berhak mendapatkan SIM Anda\")"
   ]
  },
  {
   "attachments": {},
   "cell_type": "markdown",
   "metadata": {},
   "source": [
    "## 2."
   ]
  },
  {
   "attachments": {},
   "cell_type": "markdown",
   "metadata": {},
   "source": [
    "Buatlah program untuk mencari bilangan terbesar yang diinput dari user.<br>\n",
    "<br>Dengan ketentuan sebagai berikut:\n",
    "* Program nenerima 3 input bilangan dari user\n",
    "* Program akan menentukan mana bilangan terbesar\n",
    "* Output yang akan dihasilkan misalnya adalah \"Dari bil_1, bil_2, dan bil_3, bilangan terbesarnya adalah bilangan bil_2\"\n",
    "> *note: Kerjakan soal ini dengan percabangan*"
   ]
  },
  {
   "cell_type": "code",
   "execution_count": 14,
   "metadata": {},
   "outputs": [
    {
     "name": "stdout",
     "output_type": "stream",
     "text": [
      "Dari bilangan 4, 7, 9, bilangan terbesarnya adalah bilangan bil 9\n"
     ]
    }
   ],
   "source": [
    "#masukkan data\n",
    "bil_1 = int(input(\"Masukkan bilangan pertama : \"))\n",
    "bil_2 = int(input(\"Masukkan bilangan kedua : \"))\n",
    "bil_3 = int(input(\"Masukkan bilangan ketiga : \"))\n",
    "\n",
    "if bil_1 > bil_2 and bil_1 > bil_2:\n",
    "    print(f'Dari bilangan {bil_1}, {bil_2}, {bil_3}, bilangan terbesarnya adalah bilangan bil {bil_1}')\n",
    "elif bil_2 > bil_1 and bil_2 > bil_3:\n",
    "    print(f'Dari bilangan {bil_1}, {bil_2}, {bil_3}, bilangan terbesarnya adalah bilangan bil {bil_2}')\n",
    "else :\n",
    "    print(f'Dari bilangan {bil_1}, {bil_2}, {bil_3}, bilangan terbesarnya adalah bilangan bil {bil_3}')\n"
   ]
  }
 ],
 "metadata": {
  "kernelspec": {
   "display_name": "Python 3",
   "language": "python",
   "name": "python3"
  },
  "language_info": {
   "codemirror_mode": {
    "name": "ipython",
    "version": 3
   },
   "file_extension": ".py",
   "mimetype": "text/x-python",
   "name": "python",
   "nbconvert_exporter": "python",
   "pygments_lexer": "ipython3",
   "version": "3.11.2"
  },
  "orig_nbformat": 4
 },
 "nbformat": 4,
 "nbformat_minor": 2
}
