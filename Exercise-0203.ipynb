{
 "cells": [
  {
   "cell_type": "code",
   "execution_count": 2,
   "metadata": {},
   "outputs": [
    {
     "name": "stdout",
     "output_type": "stream",
     "text": [
      "Adriani Hasna Khalisha\n",
      "I0322004\n",
      "A\n"
     ]
    }
   ],
   "source": [
    "print(input(\"Nama: \"))\n",
    "print(input(\"NIM: \"))\n",
    "print(input(\"Kelas: \"))"
   ]
  },
  {
   "attachments": {},
   "cell_type": "markdown",
   "metadata": {},
   "source": [
    "## 1."
   ]
  },
  {
   "attachments": {},
   "cell_type": "markdown",
   "metadata": {},
   "source": [
    "buatlah program sederhana untuk menghitung umur pengguna dengan ketentuan sebagai berikut :\n",
    "* Program meminta pengguna memasukan tanggal, bulan, dan tahun lahir\n",
    "* Program menghitung umur pengguna hingga tanggal 1 januari 2023\n",
    "* Program menampilkan umur dari pengguna"
   ]
  },
  {
   "cell_type": "code",
   "execution_count": 20,
   "metadata": {},
   "outputs": [
    {
     "name": "stdout",
     "output_type": "stream",
     "text": [
      "Tanggal lahir = 32/1/2004\n",
      "maaf tanggal tidak akurat\n"
     ]
    }
   ],
   "source": [
    "#Masukan tanggal,bulan dan tahun lahir \n",
    "tanggal = int(input (\"tanggal kelahiran: \"))\n",
    "bulan = int(input (\"bulan kelahiran: \"))\n",
    "tahun = int(input (\"tahun kelahiran: \"))\n",
    "\n",
    "#tanggal aktual\n",
    "taggalaktual = 1\n",
    "bulanaktual = 1\n",
    "tahunaktual = 2023\n",
    "\n",
    "#perhitungan umur\n",
    "if tanggal == 1:\n",
    "    if bulan ==1:\n",
    "        umur = int(tahunaktual - tahun)\n",
    "else: umur = int(tahunaktual - tahun -1)\n",
    "\n",
    "#tanggal lahir\n",
    "print(f'Tanggal lahir = {tanggal}/{bulan}/{tahun}')\n",
    "\n",
    "#hasil umur\n",
    "if tanggal >= 32:\n",
    "    print(\"maaf tanggal tidak akurat\")\n",
    "elif bulan >= 12:\n",
    "    print(\"maaf tanggal tidak akurat\")\n",
    "else: print (f'umur pada tanggal 1 Januari 2023 adalah {umur}' )\n",
    "\n"
   ]
  },
  {
   "attachments": {},
   "cell_type": "markdown",
   "metadata": {},
   "source": [
    "## 2."
   ]
  },
  {
   "attachments": {},
   "cell_type": "markdown",
   "metadata": {},
   "source": [
    "Pada 2015, wabah flu burung menyerang Indonesia dan beberapa peternak ayam mengalami kerugian karena banyaknya ayam yang mati. Setiap bulan, jumlah ayamnya berkurang menjadi setengah. Setelah dua bulan, jumlah ayam yang tersisa adalah 200 ekor. Hitunglah jumlah ayam sebelumnya yang dimiliki peternak tersebut! (gunakan rumus deret geometri)\n",
    "\n",
    "> *note: SOAL DIATAS DIKERJAKAN SESUAI DENGAN RUMUS BAKU*"
   ]
  },
  {
   "cell_type": "code",
   "execution_count": 21,
   "metadata": {},
   "outputs": [
    {
     "name": "stdout",
     "output_type": "stream",
     "text": [
      "maka jumlah ayam sebelumnya yang dimiliki peternak tersebut adalah 800.0\n"
     ]
    }
   ],
   "source": [
    "n = 3\n",
    "r = 1/2 \n",
    "un = 200\n",
    "\n",
    "#menghitung dengan rumus deret geometri\n",
    "a = un/r**(n-1)\n",
    "\n",
    "#hasil\n",
    "print(f'maka jumlah ayam sebelumnya yang dimiliki peternak tersebut adalah {a}')"
   ]
  },
  {
   "attachments": {},
   "cell_type": "markdown",
   "metadata": {},
   "source": [
    "## 3. "
   ]
  },
  {
   "attachments": {},
   "cell_type": "markdown",
   "metadata": {},
   "source": [
    "* **A** Hitunglah luas Prisma Segitiga dengan ketentuan sebagai berikut:\n",
    "    * Alas dan tutup prisma merupakan segitiga\n",
    "    * Terdapat 3 persegi panjang yang menyinggung alas dan tutup prisma\n",
    "    * Sisi persegi panjang yang menyinggung segitiga adalah sisi lebar\n",
    "```python\n",
    "    dictionary_figure = {\"Persegi\":{\"Sisi\":22},\n",
    "                        \"Persegi Panjang\":{\"Panjang\":10,\"Lebar\":5},\n",
    "                        \"Segitiga Sama Sisi\":{\"Sisi\":6,\"Tinggi\":3**(1/2) * 3},\n",
    "                        \"Lingkaran\":{\"Diameter\":7}}\n",
    "```\n",
    "* **B** Hitunglah luas Tabung dengan ketentuan sebagai berikut:\n",
    "    * Alas dan tutup tabung merupakan lingkaran\n",
    "    * Terdapat 1 persegi yang menyinggung alas dan tutup tabung\n",
    "    * Persegi yang ada mengelilingi lingkaran hingga sisi dari persegi saling bertemu\n",
    "\n",
    "> *note: Pada soal ini kalian hanya boleh menggunakan key-value pair dan index pada list. Tidak diperbolehkan menulis secara langsung dimensi dari figure*"
   ]
  },
  {
   "cell_type": "code",
   "execution_count": null,
   "metadata": {},
   "outputs": [
    {
     "name": "stdout",
     "output_type": "stream",
     "text": [
      "Maka, luas permukaan prisma segitiga adalah 181.1769145362398\n",
      "Maka, luas permukaan permukaan tabung adalah 560.9300000000001\n"
     ]
    }
   ],
   "source": [
    "dictionary_figure = {\"Persegi\":{\"Sisi\":22},\n",
    "                    \"Persegi Panjang\":{\"Panjang\":10,\"Lebar\":5},\n",
    "                    \"Segitiga Sama Sisi\":{\"Sisi\":6,\"Tinggi\":3**(1/2) * 3},\n",
    "                    \"Lingkaran\":{\"Diameter\":7}}\n",
    "\n",
    "#menghitung luas prisma segitiga\n",
    "LuasSegitiga = (0.5 * dictionary_figure[\"Segitiga Sama Sisi\"][\"Sisi\"])* (dictionary_figure[\"Segitiga Sama Sisi\"][\"Tinggi\"])\n",
    "LuasPersegipanjang = (dictionary_figure[\"Persegi Panjang\"][\"Panjang\"])* (dictionary_figure[\"Persegi Panjang\"][\"Lebar\"])\n",
    "LP_prismasegitiga = 2 * LuasSegitiga + 3 * LuasPersegipanjang\n",
    "\n",
    "print(f'Maka, luas permukaan prisma segitiga adalah {LP_prismasegitiga}')\n",
    "\n",
    "#menghitung luas tabung\n",
    "phi = 3.14\n",
    "LuasLingkaran = phi * (0.5 * (dictionary_figure[\"Lingkaran\"][\"Diameter\"]))**2\n",
    "LuasSelimut = (dictionary_figure[\"Persegi\"][\"Sisi\"])*(dictionary_figure[\"Persegi\"][\"Sisi\"])\n",
    "LP_Tabung = 2 * LuasLingkaran + LuasSelimut\n",
    "\n",
    "print(f'Maka, luas permukaan permukaan tabung adalah {LP_Tabung}')"
   ]
  }
 ],
 "metadata": {
  "kernelspec": {
   "display_name": "Python 3",
   "language": "python",
   "name": "python3"
  },
  "language_info": {
   "codemirror_mode": {
    "name": "ipython",
    "version": 3
   },
   "file_extension": ".py",
   "mimetype": "text/x-python",
   "name": "python",
   "nbconvert_exporter": "python",
   "pygments_lexer": "ipython3",
   "version": "3.11.2"
  },
  "orig_nbformat": 4,
  "vscode": {
   "interpreter": {
    "hash": "5addf786bcd861d1ce5006f23111f8cbb206731e5b61b0a5632ba9e0252558a8"
   }
  }
 },
 "nbformat": 4,
 "nbformat_minor": 2
}
