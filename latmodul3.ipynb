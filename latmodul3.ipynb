{
 "cells": [
  {
   "cell_type": "code",
   "execution_count": 1,
   "metadata": {},
   "outputs": [
    {
     "name": "stdout",
     "output_type": "stream",
     "text": [
      "1\n"
     ]
    }
   ],
   "source": [
    "modulo1 = 10%3\n",
    "print(modulo1)"
   ]
  },
  {
   "cell_type": "code",
   "execution_count": 3,
   "metadata": {},
   "outputs": [
    {
     "name": "stdout",
     "output_type": "stream",
     "text": [
      "hasil dari 1 + 2 = 3\n"
     ]
    }
   ],
   "source": [
    "angka1 = int(input(\"masukkan angka pertama\"))\n",
    "angka2 = int(input(\"masukkan angka kedua\"))\n",
    "operasi = angka1+angka2\n",
    "print(\"hasil dari \"+str(angka1)+\" + \"+str(angka2)+\" = \"+str(operasi))"
   ]
  },
  {
   "attachments": {},
   "cell_type": "markdown",
   "metadata": {},
   "source": [
    "## Calculator penjumlahan\n",
    "## Calculator pengurangan\n",
    "## Calculator perkalian\n",
    "## Calculator pembagian"
   ]
  },
  {
   "cell_type": "code",
   "execution_count": 12,
   "metadata": {},
   "outputs": [
    {
     "name": "stdout",
     "output_type": "stream",
     "text": [
      "15\n",
      "5\n"
     ]
    }
   ],
   "source": [
    "a = int(input(\"asigment\"))\n",
    "b = a\n",
    "a += 5\n",
    "print(a)\n",
    "b -= 5\n",
    "print(b)"
   ]
  },
  {
   "cell_type": "code",
   "execution_count": 15,
   "metadata": {},
   "outputs": [
    {
     "name": "stdout",
     "output_type": "stream",
     "text": [
      "data a = False\n",
      "data b = True\n"
     ]
    }
   ],
   "source": [
    "# NOT\n",
    "a = False\n",
    "b = not a\n",
    "print('data a =',a)\n",
    "print('data b =',b)"
   ]
  }
 ],
 "metadata": {
  "kernelspec": {
   "display_name": "Python 3",
   "language": "python",
   "name": "python3"
  },
  "language_info": {
   "codemirror_mode": {
    "name": "ipython",
    "version": 3
   },
   "file_extension": ".py",
   "mimetype": "text/x-python",
   "name": "python",
   "nbconvert_exporter": "python",
   "pygments_lexer": "ipython3",
   "version": "3.11.2"
  },
  "orig_nbformat": 4
 },
 "nbformat": 4,
 "nbformat_minor": 2
}
