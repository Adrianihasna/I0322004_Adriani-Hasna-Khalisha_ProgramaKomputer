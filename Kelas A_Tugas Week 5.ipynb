{
 "cells": [
  {
   "attachments": {},
   "cell_type": "markdown",
   "metadata": {},
   "source": [
    "1. Buatlah program untuk menampilkan total penjumlahan bilangan ganjil dan total penjumlahan bilangan genap dengan input dari user berupa range (batas atas dan batas bawah)!"
   ]
  },
  {
   "cell_type": "code",
   "execution_count": 2,
   "metadata": {},
   "outputs": [
    {
     "name": "stdout",
     "output_type": "stream",
     "text": [
      "Hasil penjumlahan bilangan genap dengan range ( 1 - 10 )yaitu 30\n",
      "Hasil penjumlahan bilangan ganjil dengan range( 1 - 10 )yaitu 25\n"
     ]
    }
   ],
   "source": [
    "# Kerjakan nomor 1 di sini\n",
    "# Masukkan data\n",
    "batas_atas = int(input(\"Masukkan batas atas\"))\n",
    "batas_bawah = int(input(\"Masukkan batas bawah\"))\n",
    "jumlah_bilgenap = 0\n",
    "jumlah_bilganjil = 0\n",
    "\n",
    "#perhitungan\n",
    "if batas_atas > batas_bawah :\n",
    "    batas_atas, batas_bawah = batas_bawah, batas_atas\n",
    "for i in:\n",
    "     range (batas_atas, batas_bawah+1):\n",
    "    if i % 2 == 0:\n",
    "        jumlah_bilgenap += i\n",
    "    else :\n",
    "        jumlah_bilganjil += i\n",
    "\n",
    "#hasil\n",
    "print(\"Hasil penjumlahan bilangan genap dengan range (\",batas_atas,\"-\",batas_bawah,\")yaitu\", jumlah_bilgenap)\n",
    "print(\"Hasil penjumlahan bilangan ganjil dengan range(\",batas_atas,\"-\",batas_bawah,\")yaitu\", jumlah_bilganjil)"
   ]
  },
  {
   "attachments": {},
   "cell_type": "markdown",
   "metadata": {},
   "source": [
    "2. Buatlah sebuah list yang berisi daftar makanan khas daerah (minimal 10 makanan termasuk makanan khas Solo). Kemudian buat program pencarian menggunakan pengulangan. Apabila nama makanan yang user inputkan sudah sesuai dengan isi list maka program akan berhenti dan menampilkan output \"(makanan yang diinput user) adalah makanan khas daerah\"."
   ]
  },
  {
   "cell_type": "code",
   "execution_count": 37,
   "metadata": {},
   "outputs": [
    {
     "name": "stdout",
     "output_type": "stream",
     "text": [
      "Daftar makanan khas daerah :\n",
      "Ketoprak\n",
      "Mi Aceh\n",
      "empek-empek\n",
      "Selat Solo adalah makanan khas daerah\n"
     ]
    }
   ],
   "source": [
    "# Kerjakan nomor 2 di sini\n",
    "\n",
    "print(\"Daftar makanan khas daerah :\")\n",
    "Makanan_khasdaerah = ['Ketoprak', 'Mi Aceh', 'empek-empek', 'Selat Solo', 'Rawon', 'Kerak Telor', 'Papeda', 'Dodol', 'Tengkleng', 'Ayam Betutu']\n",
    "makanandaerah = input('Masukkan makanan khas daerah :')\n",
    "\n",
    "for i in Makanan_khasdaerah :\n",
    "    if i == makanandaerah :\n",
    "        break\n",
    "    print (i)\n",
    "if i == makanandaerah :        \n",
    "    print(makanandaerah, \"adalah makanan khas daerah\")\n",
    "else :\n",
    "    print(makanandaerah, \"tidak termasuk makanan khas daerah\")\n"
   ]
  },
  {
   "attachments": {},
   "cell_type": "markdown",
   "metadata": {},
   "source": [
    "3. Buatlah program untuk menghitung rata-rata 7 bilangan dimana bilangan-bilangan tersebut didapat melalui input user!"
   ]
  },
  {
   "cell_type": "code",
   "execution_count": 4,
   "metadata": {},
   "outputs": [
    {
     "name": "stdout",
     "output_type": "stream",
     "text": [
      "[1.0, 2.0, 3.0, 4.0, 5.0, 6.0, 7.0]\n",
      "Maka rata-rata bilangan adalah 4.0\n"
     ]
    }
   ],
   "source": [
    "# Kerjakan nomor 3 di sinini\n",
    "\n",
    "listbilangan = []\n",
    "for i in range (7) :\n",
    "    bilangan = float(input(\"Masukkan bilangan ke-1 hingga ke-7\"))\n",
    "    listbilangan.append(bilangan) \n",
    "    rata2 = sum(listbilangan)/len(listbilangan)\n",
    "print(listbilangan)\n",
    "print(f'Maka rata-rata bilangan adalah {rata2}')\n"
   ]
  }
 ],
 "metadata": {
  "kernelspec": {
   "display_name": "Python 3",
   "language": "python",
   "name": "python3"
  },
  "language_info": {
   "codemirror_mode": {
    "name": "ipython",
    "version": 3
   },
   "file_extension": ".py",
   "mimetype": "text/x-python",
   "name": "python",
   "nbconvert_exporter": "python",
   "pygments_lexer": "ipython3",
   "version": "3.11.2"
  },
  "orig_nbformat": 4
 },
 "nbformat": 4,
 "nbformat_minor": 2
}
